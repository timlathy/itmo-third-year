{
 "cells": [
  {
   "cell_type": "code",
   "execution_count": null,
   "metadata": {},
   "outputs": [],
   "source": [
    "import entropy\n",
    "import pandas as pd\n",
    "import numpy as np\n",
    "\n",
    "pd.set_option('display.max_columns', 30)\n",
    "pd.set_option('display.float_format', lambda x: f'{x:.3f}')"
   ]
  },
  {
   "cell_type": "code",
   "execution_count": null,
   "metadata": {},
   "outputs": [],
   "source": [
    "from IPython.display import display, Latex\n",
    "\n",
    "def analyze_letters(file):\n",
    "    probabilities = entropy.letter_probabilities(file)\n",
    "    t = pd.DataFrame(data={\n",
    "        'Символ': list(probabilities.keys()),\n",
    "        'Вероятность символа': list(probabilities.values())\n",
    "    })\n",
    "    t['Энтропия символа'] = np.log2(1 / t['Вероятность символа'])\n",
    "    h = -np.sum(t['Вероятность символа'] * np.log2(t['Вероятность символа']))\n",
    "    display(t)\n",
    "    display(Latex(f'Значение энтропии $Н$ = {h:.4f}'))\n",
    "\n",
    "def analyze_letter_pairs(file):\n",
    "    probabilities = entropy.letter_probabilities(file)\n",
    "    pair_probabilities = entropy.letter_pair_probabilities(file)\n",
    "    h_star = -sum(pair_p * probabilities[pair[0]] * np.log2(pair_p) for pair, pair_p in pair_probabilities.items())\n",
    "    display(Latex(f'Значение энтропии $Н*$ = {h_star:.4f}'))"
   ]
  },
  {
   "cell_type": "code",
   "execution_count": null,
   "metadata": {},
   "outputs": [],
   "source": [
    "analyze_letter_pairs('text_60k')"
   ]
  }
 ],
 "metadata": {
  "kernelspec": {
   "display_name": "applied-maths-lab1",
   "language": "python",
   "name": "applied-maths-lab1"
  },
  "language_info": {
   "codemirror_mode": {
    "name": "ipython",
    "version": 3
   },
   "file_extension": ".py",
   "mimetype": "text/x-python",
   "name": "python",
   "nbconvert_exporter": "python",
   "pygments_lexer": "ipython3",
   "version": "3.7.4"
  }
 },
 "nbformat": 4,
 "nbformat_minor": 2
}

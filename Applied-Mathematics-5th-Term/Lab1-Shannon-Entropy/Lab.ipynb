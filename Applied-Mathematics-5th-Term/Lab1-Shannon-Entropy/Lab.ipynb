{
 "cells": [
  {
   "cell_type": "code",
   "execution_count": null,
   "metadata": {},
   "outputs": [],
   "source": [
    "import entropy\n",
    "import pandas as pd\n",
    "import numpy as np\n",
    "from IPython.display import display, Latex\n",
    "\n",
    "pd.set_option('display.max_columns', 30)\n",
    "pd.set_option('display.float_format', lambda x: f'{x:.3f}')"
   ]
  },
  {
   "cell_type": "markdown",
   "metadata": {},
   "source": [
    "## Задание 1\n",
    "\n",
    "Оценить вероятность появления символов и вычислить величину энтропии символов $H_i = \\log_2 \\frac{1}{p(x_i)}$ и текста $H = -\\sum p(x_i) H_i$."
   ]
  },
  {
   "cell_type": "code",
   "execution_count": null,
   "metadata": {},
   "outputs": [],
   "source": [
    "def analyze_letters(file):\n",
    "    # letter_probabilities is a native function, see entropy/src/lib.rs\n",
    "    probabilities = entropy.letter_probabilities(file)\n",
    "    t = pd.DataFrame()\n",
    "    t['Символ'] = probabilities.keys()\n",
    "    t['Вероятность символа'] = probabilities.values()\n",
    "    t['Энтропия символа'] = np.log2(1 / t['Вероятность символа'])\n",
    "    h = -np.sum(t['Вероятность символа'] * np.log2(t['Вероятность символа']))\n",
    "    display(Latex(f'Значение энтропии $Н$ = {h:.4f}'))\n",
    "    display(t)\n",
    "\n",
    "print('Введите путь к файлу:')\n",
    "file = input()\n",
    "analyze_letters(file)"
   ]
  },
  {
   "cell_type": "markdown",
   "metadata": {},
   "source": [
    "## Задание 2\n",
    "\n",
    "Вычислить значение энтропии $H*$ для пар символов $(x_i, x_j)$ как $-\\sum p(x_i / x_j) * p(x_j) * \\log p(x_i / x_j)$, где $p(x_i / x_j)$ — вероятность встречи пары."
   ]
  },
  {
   "cell_type": "code",
   "execution_count": null,
   "metadata": {},
   "outputs": [],
   "source": [
    "def analyze_letter_pairs(file):\n",
    "    probabilities = entropy.letter_probabilities(file)\n",
    "    pair_probabilities = entropy.letter_pair_probabilities(file)\n",
    "    h_star = -sum(pair_p * probabilities[pair[1]] * np.log2(pair_p) for pair, pair_p in pair_probabilities.items())\n",
    "    display(Latex(f'Значение энтропии $Н*$ = {h_star:.4f}'))"
   ]
  },
  {
   "cell_type": "code",
   "execution_count": null,
   "metadata": {},
   "outputs": [],
   "source": [
    "print('Введите путь к файлу:')\n",
    "file = input()\n",
    "analyze_letter_pairs(file)"
   ]
  }
 ],
 "metadata": {
  "kernelspec": {
   "display_name": "applied-maths-lab1",
   "language": "python",
   "name": "applied-maths-lab1"
  },
  "language_info": {
   "codemirror_mode": {
    "name": "ipython",
    "version": 3
   },
   "file_extension": ".py",
   "mimetype": "text/x-python",
   "name": "python",
   "nbconvert_exporter": "python",
   "pygments_lexer": "ipython3",
   "version": "3.7.4"
  }
 },
 "nbformat": 4,
 "nbformat_minor": 2
}

{
 "cells": [
  {
   "cell_type": "code",
   "execution_count": null,
   "metadata": {},
   "outputs": [],
   "source": [
    "import entropy\n",
    "\n",
    "letter_frequencies = entropy.letter_frequencies('text_60k')\n",
    "probabilities = entropy.frequencies_to_probabilities(letter_frequencies)"
   ]
  }
 ],
 "metadata": {
  "kernelspec": {
   "display_name": "applied-maths-lab1",
   "language": "python",
   "name": "applied-maths-lab1"
  },
  "language_info": {
   "codemirror_mode": {
    "name": "ipython",
    "version": 3
   },
   "file_extension": ".py",
   "mimetype": "text/x-python",
   "name": "python",
   "nbconvert_exporter": "python",
   "pygments_lexer": "ipython3",
   "version": "3.7.4"
  }
 },
 "nbformat": 4,
 "nbformat_minor": 2
}

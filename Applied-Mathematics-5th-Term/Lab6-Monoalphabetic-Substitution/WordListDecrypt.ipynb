{
 "cells": [
  {
   "cell_type": "markdown",
   "metadata": {},
   "source": [
    "Run the following to obtain the word list:\n",
    "\n",
    "```\n",
    "curl -LO https://github.com/danakt/russian-words/raw/master/russian.txt\n",
    "iconv -f cp1251 -t utf8 russian.txt | awk '{print tolower($0)}' > russian-utf8.txt\n",
    "```"
   ]
  },
  {
   "cell_type": "code",
   "execution_count": 1,
   "metadata": {},
   "outputs": [],
   "source": [
    "import codecs\n",
    "\n",
    "with open('russian-utf8.txt', 'r') as f:\n",
    "    russian_words = f.read().splitlines()\n",
    "\n",
    "ciphertext_file = 'mono_var08.KR'\n",
    "space_sub = 'Ы'\n",
    "with codecs.open(ciphertext_file, 'r', 'cp1251') as f:\n",
    "    ciphertext = f.read()\n",
    "\n",
    "ciphertext_words = list(set(ciphertext.split(space_sub)))"
   ]
  },
  {
   "cell_type": "code",
   "execution_count": 2,
   "metadata": {},
   "outputs": [],
   "source": [
    "def word_to_pattern(word):\n",
    "    pattern = []\n",
    "    letters = []\n",
    "    for l in word:\n",
    "        if l in letters:\n",
    "            pattern.append(letters.index(l))\n",
    "        else:\n",
    "            letters.append(l)\n",
    "            pattern.append(len(letters) - 1)\n",
    "    return pattern\n",
    "\n",
    "dict_patterns = [(w, word_to_pattern(w)) for w in russian_words]"
   ]
  },
  {
   "cell_type": "code",
   "execution_count": 3,
   "metadata": {},
   "outputs": [],
   "source": [
    "def match_ciphertext_word(ciph_word):\n",
    "    matches = []\n",
    "    ciph_pattern = word_to_pattern(ciph_word)\n",
    "    for dict_word, dict_pattern in dict_patterns:\n",
    "        if ciph_pattern == dict_pattern:\n",
    "            subs = dict(zip(ciph_word, dict_word))\n",
    "            matches.append((dict_word, subs))\n",
    "    return matches\n",
    "\n",
    "def word_subs(ciph_word):\n",
    "    subs = {}\n",
    "    for dict_word, dict_subs in match_ciphertext_word(ciph_word):\n",
    "        for ciph, deciph in dict_subs.items():\n",
    "            if ciph in subs:\n",
    "                subs[ciph].add(deciph)\n",
    "            else:\n",
    "                subs[ciph] = set([deciph])\n",
    "    return subs"
   ]
  },
  {
   "cell_type": "markdown",
   "metadata": {},
   "source": [
    "The following codes prints out a list of possible letter substitutions, in the order of most confident (less possibilities) -> least confident (more possibilities). Using it, I cracked the cypher by hand in a couple of minutes."
   ]
  },
  {
   "cell_type": "code",
   "execution_count": 4,
   "metadata": {},
   "outputs": [
    {
     "name": "stdout",
     "output_type": "stream",
     "text": [
      "Щ -> {'п'}\n",
      "Ц -> {'т'}\n",
      "З -> {'н'}\n",
      "Ф -> {'с'}\n",
      "Л -> {'е'}\n",
      "Т -> {'д'}\n",
      "Г -> {'о'}\n",
      "М -> {'и'}\n",
      "Ж -> {'ш'}\n",
      "К -> {'я'}\n",
      "О -> {'а', 'е'}\n",
      "Ш -> {'м', 'х'}\n",
      "Р -> {'в', 'к', 'л', 'т'}\n",
      "Ч -> {'о', 'у', 'ы', 'а'}\n",
      "П -> {'д', 'п', 'р', 'б', 'з', 'ш'}\n",
      "Ю -> {'н', 'с', 'к', 'р', 'ч', 'л', 'т', 'я', 'и'}\n",
      "Ь -> {'н', 'д', 'ш', 'с', 'щ', 'в', 'ц', 'ч', 'х', 'т'}\n",
      "Х -> {'д', 'м', 'в', 'к', 'р', 'о', 'у', 'а', 'л', 'и', 'т', 'я', 'е', 'ж'}\n",
      "Й -> {'н', 'д', 'с', 'п', 'м', 'в', 'к', 'р', 'б', 'з', 'х', 'а', 'л', 'т'}\n",
      "Э -> {'н', 'д', 'с', 'п', 'м', 'в', 'р', 'б', 'з', 'ч', 'о', 'г', 'а', 'л', 'т', 'ф'}\n",
      "И -> {'д', 'н', 'с', 'щ', 'в', 'к', 'р', 'ю', 'у', 'а', 'г', 'и', 'ш', 'я', 'й', 'е', 'ж'}\n",
      "Д -> {'д', 'ы', 'м', 'в', 'к', 'ь', 'з', 'ц', 'ю', 'о', 'у', 'а', 'л', 'и', 'т', 'я', 'й', 'е'}\n",
      "Н -> {'ё', 'в', 'ь', 'т', 'ж', 'м', 'х', 'а', 'б', 'ц', 'л', 'и', 'ш', 'н', 'с', 'к', 'р', 'у', 'е'}\n",
      "В -> {'щ', 'в', 'з', 'ю', 'т', 'ж', 'д', 'м', 'х', 'а', 'п', 'б', 'л', 'и', 'ш', 'н', 'с', 'к', 'р', 'ч', 'о', 'у', 'г', 'е'}\n",
      "Ъ -> {'щ', 'в', 'з', 'т', 'ф', 'д', 'м', 'а', 'п', 'б', 'ц', 'л', 'ш', 'н', 'с', 'к', 'р', 'ч', 'о', 'у', 'е', 'г', 'я', 'и'}\n",
      "Я -> {'щ', 'в', 'з', 'ю', 'т', 'ж', 'ф', 'д', 'м', 'х', 'а', 'п', 'б', 'ц', 'л', 'и', 'ш', 'н', 'с', 'к', 'р', 'ч', 'о', 'у', 'г', 'я', 'е'}\n",
      "А -> {'в', 'ь', 'з', 'ю', 'т', 'ж', 'д', 'ы', 'м', 'х', 'а', 'б', 'ц', 'л', 'ш', 'й', 'н', 'с', 'к', 'р', 'ч', 'о', 'у', 'е', 'г', 'я', 'и'}\n",
      "Б -> {'щ', 'в', 'з', 'ю', 'т', 'ф', 'ж', 'д', 'э', 'м', 'х', 'а', 'п', 'б', 'ц', 'л', 'ш', 'н', 'с', 'к', 'р', 'ч', 'о', 'у', 'е', 'г', 'я', 'и'}\n",
      "С -> {'ё', 'щ', 'в', 'ь', 'з', 'ю', 'т', 'ж', 'ф', 'д', 'э', 'ы', 'м', 'х', 'а', 'п', 'б', 'ц', 'л', 'ш', 'й', 'н', 'с', 'к', 'р', 'ч', 'о', 'у', 'е', 'г', 'я', 'и'}\n",
      "У -> {'ё', 'щ', 'в', 'ь', 'з', 'ю', 'т', 'ъ', 'ф', 'ж', 'д', 'э', 'ы', 'м', 'х', 'а', 'п', 'б', 'ц', 'л', 'ш', 'й', 'н', 'с', 'к', 'р', '-', 'ч', 'о', 'у', 'е', 'г', 'я', 'и'}\n"
     ]
    }
   ],
   "source": [
    "global_subs = {}\n",
    "for w in ciphertext_words:\n",
    "    for ciph, deciphs in word_subs(w).items():\n",
    "        if ciph in global_subs:\n",
    "            global_subs[ciph] = global_subs[ciph].intersection(deciphs)\n",
    "        else:\n",
    "            global_subs[ciph] = deciphs\n",
    "\n",
    "letter_subs = sorted(global_subs.items(), key=lambda subs: len(subs[1]))\n",
    "for ciph, deciphs in letter_subs:\n",
    "    print(f'{ciph} -> {deciphs}')"
   ]
  }
 ],
 "metadata": {
  "kernelspec": {
   "display_name": "Python 3",
   "language": "python",
   "name": "python3"
  },
  "language_info": {
   "codemirror_mode": {
    "name": "ipython",
    "version": 3
   },
   "file_extension": ".py",
   "mimetype": "text/x-python",
   "name": "python",
   "nbconvert_exporter": "python",
   "pygments_lexer": "ipython3",
   "version": "3.7.5"
  }
 },
 "nbformat": 4,
 "nbformat_minor": 2
}

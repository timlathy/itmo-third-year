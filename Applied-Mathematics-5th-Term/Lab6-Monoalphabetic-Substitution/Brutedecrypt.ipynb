{
 "cells": [
  {
   "cell_type": "code",
   "execution_count": null,
   "metadata": {},
   "outputs": [],
   "source": [
    "%pip install --user pyahocorasick\n",
    "%load_ext Cython"
   ]
  },
  {
   "cell_type": "code",
   "execution_count": null,
   "metadata": {},
   "outputs": [],
   "source": [
    "import codecs\n",
    "from collections import Counter\n",
    "\n",
    "with codecs.open('mono_var08.KR', 'r', 'cp1251') as f:\n",
    "    encrypted = f.read()\n",
    "\n",
    "space_sub = 'Ы'\n",
    "encrypted = encrypted.replace(space_sub, ' ')\n",
    "encrypted_alphabet = ''.join(l for l, cnt in Counter(encrypted).most_common() if l != ' ')"
   ]
  },
  {
   "cell_type": "code",
   "execution_count": null,
   "metadata": {},
   "outputs": [],
   "source": [
    "import ahocorasick\n",
    "\n",
    "natwords = [\n",
    "    ' И ', ' ИЛИ ', ' ДА ', ' НЕ ',\n",
    "    ' ЧТО ', ' ЧТОБЫ ', ' КАК ', ' ГДЕ ', ' КУДА ', ' ОТКУДА ', ' КОГДА ', ' ДЛЯ ',\n",
    "    ' С ', ' СО ', ' В ', ' ВО ',  ' ДО ', ' ПО ', ' НА ', ' НАД ', ' МЕЖДУ ', ' ИЗ ', ' ЧЕРЕЗ ',\n",
    "    ' Я ', ' ТЫ ', ' ВЫ ', ' ОН ', ' ОНА ', ' ОНИ ', ' ОНО '\n",
    "]\n",
    "\n",
    "score_automaton = ahocorasick.Automaton()\n",
    "for w in natwords:\n",
    "    score_automaton.add_word(w, None)\n",
    "score_automaton.make_automaton()\n",
    "\n",
    "def score_text(text):\n",
    "    score = 0\n",
    "    for _ in score_automaton.iter(text):\n",
    "        score += 1\n",
    "    return score"
   ]
  },
  {
   "cell_type": "code",
   "execution_count": null,
   "metadata": {},
   "outputs": [],
   "source": [
    "%%cython\n",
    "\n",
    "cdef int R = 3\n",
    "def gen_permutations(str encr_alphabet):\n",
    "    # Alphabet is sorted in most frequent -> least frequent letter\n",
    "    alphabet = 'ОЕАИНТСРВЛКМДПУЯЫЗЬЪБГЧЙХЖЮШЦЩЭФ'\n",
    "    # Reverse the alphabets to permute the most frequent letters first\n",
    "    alphabet = alphabet[::-1]\n",
    "    encr_alphabet = encr_alphabet[::-1]\n",
    "    cdef int encr_alphabet_len = len(encr_alphabet)\n",
    "\n",
    "    subs = dict()\n",
    "    is_taken = set()\n",
    "    i_stack = list()\n",
    "    \n",
    "    cdef int i = 0\n",
    "    cdef int letter_i = 0\n",
    "    \n",
    "    while letter_i >= 0:\n",
    "        key = ord(encr_alphabet[letter_i])\n",
    "        while i < min(encr_alphabet_len, letter_i + R):\n",
    "            if i in is_taken:\n",
    "                i += 1\n",
    "                continue\n",
    "            is_taken.add(i)\n",
    "            subs[key] = alphabet[i]\n",
    "            if letter_i + 1 < encr_alphabet_len:\n",
    "                i_stack.append(i)\n",
    "                letter_i += 1\n",
    "                i = max(0, letter_i - R)\n",
    "                break\n",
    "            else:\n",
    "                yield subs\n",
    "                is_taken.remove(i)\n",
    "                i += 1\n",
    "        else:\n",
    "            letter_i -= 1\n",
    "            if letter_i >= 0:\n",
    "                i = i_stack.pop()\n",
    "                is_taken.remove(i)\n",
    "                i += 1"
   ]
  },
  {
   "cell_type": "code",
   "execution_count": null,
   "metadata": {},
   "outputs": [],
   "source": [
    "def brute_force(gen_count, select_count):\n",
    "    tries = []\n",
    "    generated = 0\n",
    "    for subs in gen_permutations(encrypted_alphabet):\n",
    "        repl = encrypted.translate(subs)\n",
    "        score = score_text(repl)\n",
    "        if score > 0:\n",
    "            if len(tries) < select_count:\n",
    "                tries.append((score, repl))\n",
    "                tries.sort(key=lambda t: t[0], reverse=True)\n",
    "            elif tries[-1][0] < score:\n",
    "                tries[-1] = (score, repl)\n",
    "                tries.sort(key=lambda t: t[0], reverse=True)\n",
    "        generated += 1\n",
    "        if generated == gen_count:\n",
    "            break\n",
    "\n",
    "    return tries"
   ]
  },
  {
   "cell_type": "code",
   "execution_count": null,
   "metadata": {},
   "outputs": [],
   "source": [
    "brute_force(gen_count=1000, select_count=5)"
   ]
  }
 ],
 "metadata": {
  "kernelspec": {
   "display_name": "Python 3",
   "language": "python",
   "name": "python3"
  },
  "language_info": {
   "codemirror_mode": {
    "name": "ipython",
    "version": 3
   },
   "file_extension": ".py",
   "mimetype": "text/x-python",
   "name": "python",
   "nbconvert_exporter": "python",
   "pygments_lexer": "ipython3",
   "version": "3.7.5"
  }
 },
 "nbformat": 4,
 "nbformat_minor": 2
}

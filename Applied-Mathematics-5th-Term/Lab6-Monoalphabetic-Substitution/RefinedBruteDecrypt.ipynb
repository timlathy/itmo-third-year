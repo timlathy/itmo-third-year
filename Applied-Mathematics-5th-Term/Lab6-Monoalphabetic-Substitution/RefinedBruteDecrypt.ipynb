{
 "cells": [
  {
   "cell_type": "markdown",
   "metadata": {},
   "source": [
    "One assumption I make about the ciphertext is that the letter corresponding to a break between words (space) is known:"
   ]
  },
  {
   "cell_type": "code",
   "execution_count": 1,
   "metadata": {},
   "outputs": [],
   "source": [
    "import codecs\n",
    "from collections import Counter\n",
    "\n",
    "with codecs.open('mono_var08.KR', 'r', 'cp1251') as f:\n",
    "    ciphertext = f.read()\n",
    "\n",
    "space_sub = 'Ы'\n",
    "ciphertext = ciphertext.replace(space_sub, ' ')\n",
    "ciphertext_alphabet = ''.join(l for l, cnt in Counter(ciphertext).most_common() if l != ' ')"
   ]
  },
  {
   "cell_type": "markdown",
   "metadata": {},
   "source": [
    "The most straightforward brute-force method I could think of is:\n",
    "\n",
    "For each letter of the alphabet, create a list of possible permutations within a range $R$ based on occurrence frequency of letters in the ciphertext and the plaintext."
   ]
  },
  {
   "cell_type": "code",
   "execution_count": 2,
   "metadata": {},
   "outputs": [
    {
     "data": {
      "text/plain": [
       "{'О': ['О', 'Е', 'А', 'И', 'Н'],\n",
       " 'Г': ['О', 'Е', 'А', 'И', 'Н', 'Т'],\n",
       " 'Л': ['О', 'Е', 'А', 'И', 'Н', 'Т', 'С'],\n",
       " 'М': ['О', 'Е', 'А', 'И', 'Н', 'Т', 'С', 'Р'],\n",
       " 'Р': ['О', 'Е', 'А', 'И', 'Н', 'Т', 'С', 'Р', 'В'],\n",
       " 'Ф': ['О', 'Е', 'А', 'И', 'Н', 'Т', 'С', 'Р', 'В', 'Л'],\n",
       " 'Т': ['Е', 'А', 'И', 'Н', 'Т', 'С', 'Р', 'В', 'Л', 'К'],\n",
       " 'З': ['А', 'И', 'Н', 'Т', 'С', 'Р', 'В', 'Л', 'К', 'М'],\n",
       " 'Ц': ['И', 'Н', 'Т', 'С', 'Р', 'В', 'Л', 'К', 'М', 'Д'],\n",
       " 'Э': ['Н', 'Т', 'С', 'Р', 'В', 'Л', 'К', 'М', 'Д', 'П'],\n",
       " 'Й': ['Т', 'С', 'Р', 'В', 'Л', 'К', 'М', 'Д', 'П', 'У'],\n",
       " 'Х': ['С', 'Р', 'В', 'Л', 'К', 'М', 'Д', 'П', 'У', 'Я'],\n",
       " 'Ш': ['Р', 'В', 'Л', 'К', 'М', 'Д', 'П', 'У', 'Я', 'Ы'],\n",
       " 'Ю': ['В', 'Л', 'К', 'М', 'Д', 'П', 'У', 'Я', 'Ы', 'З'],\n",
       " 'Ч': ['Л', 'К', 'М', 'Д', 'П', 'У', 'Я', 'Ы', 'З', 'Ь'],\n",
       " 'К': ['К', 'М', 'Д', 'П', 'У', 'Я', 'Ы', 'З', 'Ь', 'Ъ'],\n",
       " 'Ъ': ['М', 'Д', 'П', 'У', 'Я', 'Ы', 'З', 'Ь', 'Ъ', 'Б'],\n",
       " 'П': ['Д', 'П', 'У', 'Я', 'Ы', 'З', 'Ь', 'Ъ', 'Б', 'Г'],\n",
       " 'Щ': ['П', 'У', 'Я', 'Ы', 'З', 'Ь', 'Ъ', 'Б', 'Г', 'Ч'],\n",
       " 'Я': ['У', 'Я', 'Ы', 'З', 'Ь', 'Ъ', 'Б', 'Г', 'Ч', 'Й'],\n",
       " 'В': ['Я', 'Ы', 'З', 'Ь', 'Ъ', 'Б', 'Г', 'Ч', 'Й', 'Х'],\n",
       " 'Д': ['Ы', 'З', 'Ь', 'Ъ', 'Б', 'Г', 'Ч', 'Й', 'Х', 'Ж'],\n",
       " 'Ж': ['З', 'Ь', 'Ъ', 'Б', 'Г', 'Ч', 'Й', 'Х', 'Ж', 'Ю'],\n",
       " 'С': ['Ь', 'Ъ', 'Б', 'Г', 'Ч', 'Й', 'Х', 'Ж', 'Ю', 'Ш'],\n",
       " 'Ь': ['Ъ', 'Б', 'Г', 'Ч', 'Й', 'Х', 'Ж', 'Ю', 'Ш', 'Ц'],\n",
       " 'У': ['Б', 'Г', 'Ч', 'Й', 'Х', 'Ж', 'Ю', 'Ш', 'Ц', 'Щ'],\n",
       " 'И': ['Г', 'Ч', 'Й', 'Х', 'Ж', 'Ю', 'Ш', 'Ц', 'Щ', 'Э'],\n",
       " 'Н': ['Ч', 'Й', 'Х', 'Ж', 'Ю', 'Ш', 'Ц', 'Щ', 'Э', 'Ф'],\n",
       " 'Б': ['Й', 'Х', 'Ж', 'Ю', 'Ш', 'Ц', 'Щ', 'Э', 'Ф'],\n",
       " 'А': ['Х', 'Ж', 'Ю', 'Ш', 'Ц', 'Щ', 'Э', 'Ф']}"
      ]
     },
     "execution_count": 2,
     "metadata": {},
     "output_type": "execute_result"
    }
   ],
   "source": [
    "# Alphabet is sorted in most frequent -> least frequent letter\n",
    "alphabet = 'ОЕАИНТСРВЛКМДПУЯЫЗЬЪБГЧЙХЖЮШЦЩЭФ'\n",
    "\n",
    "R = 5\n",
    "def permute(letter):\n",
    "    i = ciphertext_alphabet.index(letter)\n",
    "    return list(alphabet)[max(0, i - R):(i + R)]\n",
    "\n",
    "permutations = {l: permute(l) for l in ciphertext_alphabet}\n",
    "permutations"
   ]
  },
  {
   "cell_type": "markdown",
   "metadata": {},
   "source": [
    "To constrain the search space a bit, I look at one-letter words:"
   ]
  },
  {
   "cell_type": "code",
   "execution_count": 4,
   "metadata": {},
   "outputs": [
    {
     "data": {
      "text/plain": [
       "{'О': ['О', 'Е', 'А', 'И', 'Н'],\n",
       " 'Г': ['О', 'Е', 'А', 'И', 'Н', 'Т'],\n",
       " 'Л': ['О', 'Е', 'А', 'И', 'Н', 'Т', 'С'],\n",
       " 'М': ['О', 'А', 'И', 'С'],\n",
       " 'Р': ['О', 'Е', 'А', 'И', 'Н', 'Т', 'С', 'Р', 'В'],\n",
       " 'Ф': ['О', 'Е', 'А', 'И', 'Н', 'Т', 'С', 'Р', 'В', 'Л'],\n",
       " 'Т': ['Е', 'А', 'И', 'Н', 'Т', 'С', 'Р', 'В', 'Л', 'К'],\n",
       " 'З': ['А', 'И', 'Н', 'Т', 'С', 'Р', 'В', 'Л', 'К', 'М'],\n",
       " 'Ц': ['И', 'Н', 'Т', 'С', 'Р', 'В', 'Л', 'К', 'М', 'Д'],\n",
       " 'Э': ['С', 'В', 'К'],\n",
       " 'Й': ['Т', 'С', 'Р', 'В', 'Л', 'К', 'М', 'Д', 'П', 'У'],\n",
       " 'Х': ['С', 'Р', 'В', 'Л', 'К', 'М', 'Д', 'П', 'У', 'Я'],\n",
       " 'Ш': ['Р', 'В', 'Л', 'К', 'М', 'Д', 'П', 'У', 'Я', 'Ы'],\n",
       " 'Ю': ['В', 'Л', 'К', 'М', 'Д', 'П', 'У', 'Я', 'Ы', 'З'],\n",
       " 'Ч': ['Л', 'К', 'М', 'Д', 'П', 'У', 'Я', 'Ы', 'З', 'Ь'],\n",
       " 'К': ['К', 'М', 'Д', 'П', 'У', 'Я', 'Ы', 'З', 'Ь', 'Ъ'],\n",
       " 'Ъ': ['М', 'Д', 'П', 'У', 'Я', 'Ы', 'З', 'Ь', 'Ъ', 'Б'],\n",
       " 'П': ['Д', 'П', 'У', 'Я', 'Ы', 'З', 'Ь', 'Ъ', 'Б', 'Г'],\n",
       " 'Щ': ['П', 'У', 'Я', 'Ы', 'З', 'Ь', 'Ъ', 'Б', 'Г', 'Ч'],\n",
       " 'Я': ['У', 'Я', 'Ы', 'З', 'Ь', 'Ъ', 'Б', 'Г', 'Ч', 'Й'],\n",
       " 'В': ['Я'],\n",
       " 'Д': ['Ы', 'З', 'Ь', 'Ъ', 'Б', 'Г', 'Ч', 'Й', 'Х', 'Ж'],\n",
       " 'Ж': ['З', 'Ь', 'Ъ', 'Б', 'Г', 'Ч', 'Й', 'Х', 'Ж', 'Ю'],\n",
       " 'С': ['Ь', 'Ъ', 'Б', 'Г', 'Ч', 'Й', 'Х', 'Ж', 'Ю', 'Ш'],\n",
       " 'Ь': ['Ъ', 'Б', 'Г', 'Ч', 'Й', 'Х', 'Ж', 'Ю', 'Ш', 'Ц'],\n",
       " 'У': ['Б', 'Г', 'Ч', 'Й', 'Х', 'Ж', 'Ю', 'Ш', 'Ц', 'Щ'],\n",
       " 'И': ['Г', 'Ч', 'Й', 'Х', 'Ж', 'Ю', 'Ш', 'Ц', 'Щ', 'Э'],\n",
       " 'Н': ['Ч', 'Й', 'Х', 'Ж', 'Ю', 'Ш', 'Ц', 'Щ', 'Э', 'Ф'],\n",
       " 'Б': ['Й', 'Х', 'Ж', 'Ю', 'Ш', 'Ц', 'Щ', 'Э', 'Ф'],\n",
       " 'А': ['Х', 'Ж', 'Ю', 'Ш', 'Ц', 'Щ', 'Э', 'Ф']}"
      ]
     },
     "execution_count": 4,
     "metadata": {},
     "output_type": "execute_result"
    }
   ],
   "source": [
    "letter_words = ['А', 'В', 'Ж', 'И', 'К', 'О', 'С', 'У', 'Э', 'Я']\n",
    "\n",
    "def single_letter_permute(letter):\n",
    "    return [l for l in permutations[letter] if l in letter_words]\n",
    "\n",
    "single_perms = {w: single_letter_permute(w) for w in ciphertext.split(' ') if len(w) == 1}\n",
    "updated_perms = {**permutations, **single_perms}\n",
    "updated_perms"
   ]
  },
  {
   "cell_type": "code",
   "execution_count": null,
   "metadata": {},
   "outputs": [],
   "source": [
    "def iter_letter_permutations(letter_perms):\n",
    "    letters = sorted(letter_perms.keys(), key=lambda l: len(letter_perms[l]))\n",
    "\n",
    "    letter_i = 0\n",
    "    perm_i = 0\n",
    "    perm_i_stack = list()\n",
    "    taken_letters = set()\n",
    "    subs = dict()\n",
    "    \n",
    "    while letter_i >= 0:\n",
    "        perms = letter_perms[letters[letter_i]]\n",
    "        while perm_i < len(perms):\n",
    "            letter_sub = perms[perm_i]\n",
    "            if letter_sub in taken_letters:\n",
    "                perm_i += 1\n",
    "                continue\n",
    "            taken_letters.add(letter_sub)\n",
    "            subs[letters[letter_i]] = letter_sub\n",
    "            if letter_i + 1 < len(letters):\n",
    "                perm_i_stack.append(perm_i)\n",
    "                letter_i += 1\n",
    "                perm_i = 0\n",
    "                break\n",
    "            else:\n",
    "                yield subs\n",
    "                taken_letters.remove(letter_sub)\n",
    "                perm_i += 1\n",
    "        else:\n",
    "            letter_i -= 1\n",
    "            if letter_i >= 0:\n",
    "                perm_i = perm_i_stack.pop()\n",
    "                perms = letter_perms[letters[letter_i]]\n",
    "                taken_letters.remove(perms[perm_i])\n",
    "                perm_i += 1"
   ]
  },
  {
   "cell_type": "code",
   "execution_count": null,
   "metadata": {},
   "outputs": [],
   "source": [
    "from ahocorapy.keywordtree import KeywordTree\n",
    "\n",
    "natwords = [\n",
    "    ' БЫ ', ' БУДТО ',\n",
    "    ' ВЫ ', ' ВО ', ' ВЕСЬ ', ' ВСЕГДА ',\n",
    "    ' ГДЕ ',\n",
    "    ' ДА ', ' ДЛЯ ', ' ДО ', ' ДЕНЬ ',\n",
    "    ' ЕЩЕ ',\n",
    "    ' ЖЕ ',\n",
    "    ' ЗА ',\n",
    "    ' ИЛИ ', ' ИЗ ',\n",
    "    ' КО ', ' КАК ', ' КОГДА ', ' КУДА ', ' КАКОЙ ', ' КАКАЯ ', ' КАКИЕ ', ' КОТОРЫЙ ', ' КОТОРАЯ ', ' КОТОРЫЕ ', ' КЕМ ',\n",
    "    ' МЫ ', ' МЕЖДУ ',\n",
    "    ' НА ', ' НЕ ', ' НО ', ' НУ ', ' НИ ', ' НАД ', ' НИКОГДА ', ' НИКАКОЙ ', ' НИКАКАЯ ', ' НИКАКИЕ ', ' НИКАКОГО ', ' НИКАКОЙ ', ' НИКАКИХ ', ' НОЧЬ ',\n",
    "    ' ОБ ', ' ОН ', ' ОНА ', ' ОНИ ', ' ОНО ', ' ОТКУДА ', ' ОЧЕНЬ ',\n",
    "    ' ПО ', ' ПОТОМ ', ' ПРО ',\n",
    "    ' СО ',\n",
    "    ' ТЫ ', ' ТОТ ',\n",
    "    ' УЖ ', ' УЖЕ ', ' УТРО ',\n",
    "    ' ХОТЬ ', ' ХОТЯ ',\n",
    "    ' ЧТО ', ' ЧТОБЫ ', ' ЧЕРЕЗ ', ' ЧЕМ ',\n",
    "    ' ЭТО ', ' ЭТОТ '\n",
    "]\n",
    "kwtree = KeywordTree(case_insensitive=False)\n",
    "for w in natwords:\n",
    "    kwtree.add(w)\n",
    "kwtree.finalize()\n",
    "\n",
    "def score_text(text):\n",
    "    results = kwtree.search_all(text)\n",
    "    if results is None:\n",
    "        return 0\n",
    "    score = 0\n",
    "    for _ in results:\n",
    "        score += 1\n",
    "    return score\n",
    "\n",
    "def brute_force(generate_from, generate_to, print_every):\n",
    "    best = None\n",
    "    generated = generate_from\n",
    "    for subs in iter_letter_permutations(updated_perms):\n",
    "        repl = encrypted.translate(subs)\n",
    "        score = score_text(repl)\n",
    "        if score > 0 and (best is None or best[0] < score):\n",
    "            best = (score, repl)\n",
    "        generated += 1\n",
    "        if generated == generate_to:\n",
    "            break\n",
    "        if generated % print_every == 0:\n",
    "            print(str(generated) + ': ' + str(best))\n",
    "\n",
    "    print('Result from ' + str(generate_from) + ' to ' + str(generate_to) + ':')\n",
    "    print(best)"
   ]
  },
  {
   "cell_type": "markdown",
   "metadata": {},
   "source": [
    "## Results\n",
    "\n",
    "I ran the following on a VPS with 8 cores (virtualized on first-gen Zen EPYC according to the provider):"
   ]
  },
  {
   "cell_type": "code",
   "execution_count": null,
   "metadata": {},
   "outputs": [],
   "source": [
    "from multiprocessing import Pool\n",
    "\n",
    "num_processes = 8\n",
    "print_every = 1_000\n",
    "generate_total = 8_000_000_000\n",
    "generate_per_process = generate_total // num_processes\n",
    "\n",
    "def run_brute_force(offset):\n",
    "    brute_force(offset, offset + generate_per_process, print_every)\n",
    "\n",
    "with Pool(num_processes) as pool:\n",
    "    offsets = list(range(0, generate_total, generate_per_process))\n",
    "    pool.map(run_brute_force, offsets)\n",
    "\n",
    "pool.join()"
   ]
  },
  {
   "cell_type": "markdown",
   "metadata": {},
   "source": [
    "After **twenty-four hours**, I barely scratched the surface of possible permutations:\n",
    "\n",
    "```\n",
    "234000000: None\n",
    "4235700000: None\n",
    "3233700000: None\n",
    "6234300000: None\n",
    "7230200000: None\n",
    "5234000000: None\n",
    "1237400000: None\n",
    "```"
   ]
  }
 ],
 "metadata": {
  "kernelspec": {
   "display_name": "Python 3",
   "language": "python",
   "name": "python3"
  },
  "language_info": {
   "codemirror_mode": {
    "name": "ipython",
    "version": 3
   },
   "file_extension": ".py",
   "mimetype": "text/x-python",
   "name": "python",
   "nbconvert_exporter": "python",
   "pygments_lexer": "ipython3",
   "version": "3.7.5"
  }
 },
 "nbformat": 4,
 "nbformat_minor": 2
}

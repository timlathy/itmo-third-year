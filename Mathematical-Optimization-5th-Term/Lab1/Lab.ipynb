{
 "cells": [
  {
   "cell_type": "markdown",
   "metadata": {},
   "source": [
    "## Цель работы\n",
    "\n",
    "Найти точку минимума функции, заданной в соответствии с вариантом, методом золотого сечения и методом квадратичной интерполяции.\n",
    "\n",
    "## Исходные данные\n",
    "\n",
    "Дана функция: $$f(x) = \\frac{1}{7}x^7 - x^3 + \\frac{1}{2}x^2 - x$$\n",
    "\n",
    "Рассмотреть отрезок $[a, b] = [1, 1.5]$. Необходимая точность вычислений для итеративного метода золотого сечения $\\varepsilon = 0.05$."
   ]
  },
  {
   "cell_type": "code",
   "execution_count": null,
   "metadata": {},
   "outputs": [],
   "source": [
    "f = lambda x: (1./7.)*x**7 - x**3 + (1./2.)*x**2 - x\n",
    "int_a, int_b = [1, 1.5]\n",
    "eps = 0.05"
   ]
  },
  {
   "cell_type": "markdown",
   "metadata": {},
   "source": [
    "## График функции"
   ]
  },
  {
   "cell_type": "code",
   "execution_count": null,
   "metadata": {},
   "outputs": [],
   "source": [
    "%matplotlib inline\n",
    "\n",
    "import matplotlib.pyplot as plt\n",
    "import numpy as np\n",
    "\n",
    "xs = np.arange(int_a - 0.05, int_b + 0.05, step=0.001)\n",
    "plt.figure(figsize=(7, 4))\n",
    "plt.plot(xs, [f(x) for x in xs])\n",
    "plt.axvline(x=int_a, color='k', linestyle='--')\n",
    "plt.axvline(x=int_b, color='k', linestyle='--')\n",
    "plt.xlabel('x')\n",
    "plt.ylabel('f(x)')\n",
    "plt.grid()\n",
    "plt.show()"
   ]
  },
  {
   "cell_type": "markdown",
   "metadata": {},
   "source": [
    "## Метод золотого сечения"
   ]
  },
  {
   "cell_type": "code",
   "execution_count": null,
   "metadata": {},
   "outputs": [],
   "source": [
    "%load_ext cython"
   ]
  },
  {
   "cell_type": "code",
   "execution_count": null,
   "metadata": {
    "scrolled": false
   },
   "outputs": [],
   "source": [
    "%%cython\n",
    "from libc.math cimport abs, sqrt\n",
    "\n",
    "def gsect_search(f, double a, double b, double delta):\n",
    "    cdef double phi_inv = (sqrt(5.) - 1.) / 2. # 1 / phi, inverse of golden ratio\n",
    "    cdef double a1, b1\n",
    "    cdef int iter_count = 0\n",
    "    while True:\n",
    "        iter_count += 1\n",
    "\n",
    "        a1 = a + (b - a)*(1 - phi_inv)\n",
    "        b1 = a + (b - a)*phi_inv\n",
    "\n",
    "        if f(a1) < f(b1):\n",
    "            b = b1\n",
    "        else:\n",
    "            a = a1\n",
    "\n",
    "        print(f'Iter {iter_count}: a={a}, b={b}')\n",
    "\n",
    "        if abs(a - b) <= delta:\n",
    "            xmin = (a + b) / 2.\n",
    "            return xmin, f(xmin), iter_count"
   ]
  },
  {
   "cell_type": "code",
   "execution_count": null,
   "metadata": {},
   "outputs": [],
   "source": [
    "xmin, ymin, iter_count = gsect_search(f, int_a, int_b, eps)\n",
    "print(f'Результат вычисления методом золотого сечения: xmin={xmin:.6f}, ymin={ymin:.6f}')\n",
    "print(f'Число итераций: {iter_count}')"
   ]
  },
  {
   "cell_type": "markdown",
   "metadata": {},
   "source": [
    "### Ручная проверка\n",
    "\n",
    "Вычислим состояние $a$, $b$ на пяти шагах:\n",
    "1. $a = 1.191, b = 1.5$\n",
    "2. $a = 1.191, b = 1.382$\n",
    "3. $a = 1.264, b = 1.382$\n",
    "4. $a = 1.264, b = 1.337$\n",
    "5. $a = 1.264, b = 1.31$\n"
   ]
  },
  {
   "cell_type": "markdown",
   "metadata": {},
   "source": [
    "## Квадратичная интерполяция\n",
    "\n",
    "Необходимо взять три точки $(x_1, y_1), (x_2, y_2), (x_3, y_3)$, удовлетворяющие следующим условиям:\n",
    "$$x_1 < x_2 < x_3,\\ f(x_1) \\geqslant f(x_2) \\leqslant f(x_3)$$\n",
    "\n",
    "В качестве $x_1$ и $x_3$ положим границы отрезка $[a, b]$, а $x_2$ выберем по графику: $x_2 = 1.2$."
   ]
  },
  {
   "cell_type": "code",
   "execution_count": null,
   "metadata": {},
   "outputs": [],
   "source": [
    "%%cython\n",
    "def lagrange(f, double x1, double x2, double x3):\n",
    "    cdef double y1 = f(x1), y2 = f(x2), y3 = f(x3)\n",
    "    cdef double delta = (x2 - x1)*(x3 - x1)*(x3 - x2)\n",
    "    cdef double A = ((x3 - x2)*y1 - (x3 - x1)*y2 + (x2 - x1)*y3) / delta\n",
    "    cdef double B = (-(x3**2 - x2**2)*y1 + (x3**2 - x1**2)*y2 - (x2**2 - x1**2)*y3) / delta\n",
    "    cdef double C = (x2*x3*(x3 - x2)*y1 - x1*x3*(x3 - x1)*y2 + x1*x2*(x2 - x1)*y3) / delta\n",
    "    cdef double xmin = -B / (2*A)\n",
    "    cdef double ymin = -B**2 / (4*A) + C\n",
    "    return xmin, ymin"
   ]
  },
  {
   "cell_type": "code",
   "execution_count": null,
   "metadata": {},
   "outputs": [],
   "source": [
    "xmin, ymin = lagrange(f, x1=int_a, x2=1.3, x3=int_b)\n",
    "print(f'Результат вычисления методом квадратичной интерполяции: xmin={xmin:.6f}, ymin={ymin:.6f}')"
   ]
  }
 ],
 "metadata": {
  "kernelspec": {
   "display_name": "Python 3",
   "language": "python",
   "name": "python3"
  },
  "language_info": {
   "codemirror_mode": {
    "name": "ipython",
    "version": 3
   },
   "file_extension": ".py",
   "mimetype": "text/x-python",
   "name": "python",
   "nbconvert_exporter": "python",
   "pygments_lexer": "ipython3",
   "version": "3.7.4"
  }
 },
 "nbformat": 4,
 "nbformat_minor": 2
}

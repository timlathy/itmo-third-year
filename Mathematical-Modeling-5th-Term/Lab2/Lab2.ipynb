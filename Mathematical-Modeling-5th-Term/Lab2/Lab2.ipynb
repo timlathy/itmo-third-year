{
 "cells": [
  {
   "cell_type": "code",
   "execution_count": null,
   "metadata": {},
   "outputs": [],
   "source": [
    "%pip install --user --quiet ciw\n",
    "import ciw"
   ]
  },
  {
   "cell_type": "code",
   "execution_count": null,
   "metadata": {},
   "outputs": [],
   "source": [
    "from dataclasses import dataclass\n",
    "\n",
    "@dataclass\n",
    "class ModelVariant:\n",
    "    num_servers: int\n",
    "    queue_capacity: int\n",
    "    arrival_dist: ciw.dists.Distribution\n",
    "    service_dist: ciw.dists.Distribution\n",
    "\n",
    "@dataclass\n",
    "class SimResult:\n",
    "    variant: ModelVariant\n",
    "    task_count: int\n",
    "    utilization: float\n",
    "    loss_probability: float\n",
    "    mean_wait_time: float\n",
    "    mean_residence_time: float\n",
    "    \n",
    "    def __init__(self, variant: ModelVariant, sim: ciw.Simulation):\n",
    "        self.variant = variant\n",
    "        self.utilization = sim.transitive_nodes[0].server_utilisation\n",
    "        \n",
    "        tasks = sim.get_all_records()\n",
    "        self.task_count = len(tasks)\n",
    "        self.loss_probability = len(sim.rejection_dict[1][0]) / self.task_count\n",
    "        self.mean_wait_time = sum(t.waiting_time for t in tasks) / self.task_count\n",
    "        self.mean_residence_time = sum(t.waiting_time + t.service_time for t in tasks) / self.task_count\n",
    "        \n",
    "def simulate(v: ModelVariant, task_count: int) -> SimResult:\n",
    "    m = ciw.create_network(\n",
    "        arrival_distributions=[v.arrival_dist],\n",
    "        service_distributions=[v.service_dist],\n",
    "        number_of_servers=[v.num_servers],\n",
    "        queue_capacities=[v.queue_capacity]\n",
    "    )\n",
    "    s = ciw.Simulation(m)\n",
    "    s.simulate_until_max_customers(task_count, method='Finish')\n",
    "    return SimResult(v, s)\n",
    "\n",
    "simulate(ModelVariant(\n",
    "    num_servers=2,\n",
    "    queue_capacity=1,\n",
    "    arrival_dist = ciw.dists.Exponential(1 / 20),\n",
    "    service_dist = ciw.dists.Exponential(1 / 21)\n",
    "), 1000)"
   ]
  }
 ],
 "metadata": {
  "kernelspec": {
   "display_name": "Python 3",
   "language": "python",
   "name": "python3"
  },
  "language_info": {
   "codemirror_mode": {
    "name": "ipython",
    "version": 3
   },
   "file_extension": ".py",
   "mimetype": "text/x-python",
   "name": "python",
   "nbconvert_exporter": "python",
   "pygments_lexer": "ipython3",
   "version": "3.7.5"
  }
 },
 "nbformat": 4,
 "nbformat_minor": 2
}

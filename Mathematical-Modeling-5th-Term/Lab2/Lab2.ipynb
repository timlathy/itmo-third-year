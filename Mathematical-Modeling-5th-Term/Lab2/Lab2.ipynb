{
 "cells": [
  {
   "cell_type": "code",
   "execution_count": null,
   "metadata": {},
   "outputs": [],
   "source": [
    "%pip install --user --quiet ciw\n",
    "import ciw"
   ]
  },
  {
   "cell_type": "markdown",
   "metadata": {},
   "source": [
    "## Simulation"
   ]
  },
  {
   "cell_type": "code",
   "execution_count": null,
   "metadata": {},
   "outputs": [],
   "source": [
    "from dataclasses import dataclass, asdict\n",
    "\n",
    "@dataclass\n",
    "class Model:\n",
    "    num_servers: int\n",
    "    queue_capacity: int\n",
    "    arrival_dist: ciw.dists.Distribution\n",
    "    service_dist: ciw.dists.Distribution\n",
    "\n",
    "@dataclass\n",
    "class SimResult:\n",
    "    model: Model\n",
    "    task_count: int\n",
    "    utilization: float\n",
    "    loss_probability: float\n",
    "    mean_wait_time: float\n",
    "    mean_residence_time: float\n",
    "    \n",
    "    def __init__(self, model: Model, sim: ciw.Simulation):\n",
    "        self.model = model\n",
    "        self.utilization = sim.transitive_nodes[0].server_utilisation\n",
    "        \n",
    "        tasks = sim.get_all_records()\n",
    "        self.task_count = len(tasks)\n",
    "        self.loss_probability = len(sim.rejection_dict[1][0]) / self.task_count\n",
    "        self.mean_wait_time = sum(t.waiting_time for t in tasks) / self.task_count\n",
    "        self.mean_residence_time = sum(t.waiting_time + t.service_time for t in tasks) / self.task_count\n",
    "\n",
    "def simulate(model: Model, task_count: int) -> SimResult:\n",
    "    sim = ciw.Simulation(ciw.create_network(\n",
    "        arrival_distributions=[model.arrival_dist],\n",
    "        service_distributions=[model.service_dist],\n",
    "        number_of_servers=[model.num_servers],\n",
    "        queue_capacities=[model.queue_capacity]\n",
    "    ))\n",
    "    sim.simulate_until_max_customers(task_count, method='Finish')\n",
    "    return SimResult(model, sim)"
   ]
  },
  {
   "cell_type": "markdown",
   "metadata": {},
   "source": [
    "## Distributions"
   ]
  },
  {
   "cell_type": "code",
   "execution_count": null,
   "metadata": {},
   "outputs": [],
   "source": [
    "def dexp(rate):\n",
    "    return ciw.dists.Exponential(rate)\n",
    "\n",
    "def dhypoexp2(rate1, rate2):\n",
    "    return dexp(rate1) + dexp(rate2)\n",
    "\n",
    "def dtrace():\n",
    "    with open('trace.txt', 'r') as f:\n",
    "        trace = [float(v) for v in f.read().splitlines()]\n",
    "        return ciw.dists.Sequential(trace)"
   ]
  },
  {
   "cell_type": "markdown",
   "metadata": {},
   "source": [
    "## Model Variations"
   ]
  },
  {
   "cell_type": "code",
   "execution_count": null,
   "metadata": {},
   "outputs": [],
   "source": [
    "models = [\n",
    "    Model(num_servers=2, queue_capacity=10, arrival_dist=dexp(1 / 20), service_dist=dexp(1 / 18)),\n",
    "    Model(num_servers=2, queue_capacity=10, arrival_dist=dtrace(), service_dist=dexp(1 / 18)),\n",
    "    Model(num_servers=2, queue_capacity=10, arrival_dist=dhypoexp2(1 / 8.55, 1 / 1.3), service_dist=dexp(1 / 18))    \n",
    "]"
   ]
  },
  {
   "cell_type": "markdown",
   "metadata": {},
   "source": [
    "## Analysis"
   ]
  },
  {
   "cell_type": "code",
   "execution_count": null,
   "metadata": {},
   "outputs": [],
   "source": [
    "import pandas as pd\n",
    "\n",
    "results = [simulate(m, 1000) for m in models]\n",
    "pd.io.json.json_normalize(map(asdict, results)).drop(['model.arrival_dist', 'model.service_dist'], 1)"
   ]
  }
 ],
 "metadata": {
  "kernelspec": {
   "display_name": "Python 3",
   "language": "python",
   "name": "python3"
  },
  "language_info": {
   "codemirror_mode": {
    "name": "ipython",
    "version": 3
   },
   "file_extension": ".py",
   "mimetype": "text/x-python",
   "name": "python",
   "nbconvert_exporter": "python",
   "pygments_lexer": "ipython3",
   "version": "3.7.5"
  }
 },
 "nbformat": 4,
 "nbformat_minor": 2
}

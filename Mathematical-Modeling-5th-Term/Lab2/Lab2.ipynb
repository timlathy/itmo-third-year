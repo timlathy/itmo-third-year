{
 "cells": [
  {
   "cell_type": "code",
   "execution_count": null,
   "metadata": {},
   "outputs": [],
   "source": [
    "%pip install --user --quiet ciw\n",
    "import ciw"
   ]
  },
  {
   "cell_type": "code",
   "execution_count": null,
   "metadata": {},
   "outputs": [],
   "source": [
    "lambda_ = 1 / 20\n",
    "mu_ = 1 / 18\n",
    "\n",
    "M = ciw.create_network(\n",
    "    arrival_distributions=[ciw.dists.Exponential(lambda_)],\n",
    "    service_distributions=[ciw.dists.Exponential(mu_)],\n",
    "    number_of_servers=[2],\n",
    "    queue_capacities=[10]\n",
    ")\n",
    "S = ciw.Simulation(M)\n",
    "S.simulate_until_max_time(100_000)\n",
    "recs = S.get_all_records()\n",
    "\n",
    "waits = [r.waiting_time for r in recs]\n",
    "mean_waiting_time = sum(waits) / len(waits)\n",
    "print(f'w_q = {mean_waiting_time}')\n",
    "\n",
    "servicetimes = [r.service_time for r in recs]\n",
    "mean_service_time = sum(servicetimes) / len(servicetimes)\n",
    "print(f'w = {mean_service_time + mean_waiting_time}')"
   ]
  }
 ],
 "metadata": {
  "kernelspec": {
   "display_name": "Python 3",
   "language": "python",
   "name": "python3"
  },
  "language_info": {
   "codemirror_mode": {
    "name": "ipython",
    "version": 3
   },
   "file_extension": ".py",
   "mimetype": "text/x-python",
   "name": "python",
   "nbconvert_exporter": "python",
   "pygments_lexer": "ipython3",
   "version": "3.7.5"
  }
 },
 "nbformat": 4,
 "nbformat_minor": 2
}

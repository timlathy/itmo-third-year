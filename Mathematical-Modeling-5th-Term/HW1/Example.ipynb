{
 "cells": [
  {
   "cell_type": "code",
   "execution_count": null,
   "metadata": {},
   "outputs": [],
   "source": [
    "from graph_solver import GraphSolver\n",
    "\n",
    "g = GraphSolver()\n",
    "g.edge('000', '100', label='0.6λ')\n",
    "g.edge('000', '010', label='0.4λ')\n",
    "g.edge('100', '110', label='λ')\n",
    "g.edge('010', '110', label='λ')\n",
    "g.edge('110', '111', label='λ')\n",
    "g.edge('111', '112', label='λ')\n",
    "g.edge('112', '113', label='λ')\n",
    "g.edge('113', '114', label='λ')\n",
    "g.edge('114', '115', label='λ')\n",
    "g.edge('115', '114', label='2μ')\n",
    "g.edge('114', '113', label='2μ')\n",
    "g.edge('113', '112', label='2μ')\n",
    "g.edge('112', '111', label='2μ')\n",
    "g.edge('111', '110', label='2μ')\n",
    "g.edge('110', '100', label='μ')\n",
    "g.edge('110', '010', label='μ')\n",
    "g.edge('100', '000', label='μ')\n",
    "g.edge('010', '000', label='μ')"
   ]
  },
  {
   "cell_type": "code",
   "execution_count": null,
   "metadata": {},
   "outputs": [],
   "source": [
    "l = 1.0\n",
    "b = 2\n",
    "q_1 = 0.6\n",
    "q_2 = 0.4\n",
    "mu = 0.5 # 1/b\n",
    "\n",
    "edge_equations = {\n",
    "    '0.6λ': lambda p: p * q_1 * g.symbols['l'],\n",
    "    '0.4λ': lambda p: p * q_2 * g.symbols['l'],\n",
    "    'λ': lambda p: p * g.symbols['l'],\n",
    "    '2μ': lambda p: p * 2 * g.symbols['mu'],\n",
    "    'μ': lambda p: p * g.symbols['mu']\n",
    "}\n",
    "\n",
    "eqs = g.make_equations(edge_equations)\n",
    "ps = g.solve(eqs, l=l, mu=mu)"
   ]
  },
  {
   "cell_type": "code",
   "execution_count": null,
   "metadata": {},
   "outputs": [],
   "source": [
    "from system_equations import shared_queue_eqs, separate_queues_eqs\n",
    "\n",
    "# Separate queues:\n",
    "# | Q | -- | Device |\n",
    "# | Q | -- | Device |\n",
    "\n",
    "#e = separate_queues_eqs(ps, busy_sym='1', device_queues=[1, 4])\n",
    "\n",
    "# Shared queue:\n",
    "#       -- | Device |\n",
    "# | Q |\n",
    "#       -- | Device |\n",
    "\n",
    "e = shared_queue_eqs(ps, busy_sym='1', queue_len=5)\n",
    "\n",
    "print(f'Матрица интенсивностей переходов:\\n{\",\".join(g.nodes)}\\n')\n",
    "print(g.adjacency_table_csv())\n",
    "print('\\nСтационарные вероятности состояний:\\n')\n",
    "print(g.probability_table_csv(ps))\n",
    "print('\\nХарактеристики системы:\\n')\n",
    "print(e.equation_table_csv(l, b, [q_1, q_2]))"
   ]
  }
 ],
 "metadata": {
  "kernelspec": {
   "display_name": "Python 3",
   "language": "python",
   "name": "python3"
  },
  "language_info": {
   "codemirror_mode": {
    "name": "ipython",
    "version": 3
   },
   "file_extension": ".py",
   "mimetype": "text/x-python",
   "name": "python",
   "nbconvert_exporter": "python",
   "pygments_lexer": "ipython3",
   "version": "3.7.4"
  }
 },
 "nbformat": 4,
 "nbformat_minor": 2
}

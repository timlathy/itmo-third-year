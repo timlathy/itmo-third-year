{
 "cells": [
  {
   "cell_type": "code",
   "execution_count": null,
   "metadata": {},
   "outputs": [],
   "source": [
    ":load LatexTable.hs\n",
    ":load Logic.hs\n",
    "import qualified LatexTable as T\n",
    "import qualified Logic as L"
   ]
  },
  {
   "cell_type": "markdown",
   "metadata": {},
   "source": [
    "# Given"
   ]
  },
  {
   "cell_type": "code",
   "execution_count": null,
   "metadata": {},
   "outputs": [],
   "source": [
    "fromZero = ((subtract 1 <$>) <$>)\n",
    "transitions = fromZero [[2, 1, 5, 6, 2, 3], [4, 3, 1, 4, 6, 5], [6, 5, 3, 2, 4, 1]]\n",
    "outputs = fromZero [[1, 2, 3, 3, 2, 1], [2, 3, 1, 2, 1, 3], [3, 1, 2, 1, 3, 2]]"
   ]
  },
  {
   "cell_type": "markdown",
   "metadata": {},
   "source": [
    "# Encoding tables"
   ]
  },
  {
   "cell_type": "code",
   "execution_count": null,
   "metadata": {},
   "outputs": [],
   "source": [
    "-- State transitions\n",
    "putStrLn $ T.render T.NoHeader T.MathCells [\"\\\\delta\", \"a_1\", \"a_2\", \"a_3\", \"a_4\", \"a_5\", \"a_6\"]\n",
    "    ((\\(i, s) -> (\"z_\" ++ show i) : s) <$> zip [1..] ((((\"a_\" ++) . show . (+ 1)) <$>) <$> transitions))\n",
    "  \n",
    "-- Outputs\n",
    "putStrLn $ T.render T.NoHeader T.MathCells [\"\\\\lambda\", \"a_1\", \"a_2\", \"a_3\", \"a_4\", \"a_5\", \"a_6\"]\n",
    "    [ [\"z_1\", \"w_1\" , \"w_2\" , \"w_3\" , \"w_3\" , \"w_2\" , \"w_1\"]\n",
    "    , [\"z_2\", \"w_2\" , \"w_3\" , \"w_1\" , \"w_2\" , \"w_1\" , \"w_3\"]\n",
    "    , [\"z_3\", \"w_3\" , \"w_1\" , \"w_2\" , \"w_1\" , \"w_3\" , \"w_2\"] ]\n",
    "\n",
    "-- Input encoding\n",
    "putStrLn $ T.render T.NoHeader T.MathCells [\"\", \"x_1\", \"x_2\"]\n",
    "    [ [\"z_1\", \"0\", \"0\"]\n",
    "    , [\"z_2\", \"0\", \"1\"]\n",
    "    , [\"z_3\", \"1\", \"0\"] ]\n",
    "\n",
    "-- Output encoding\n",
    "putStrLn $ T.render T.NoHeader T.MathCells [\"\", \"y_1\", \"y_2\"]\n",
    "    [ [\"w_1\", \"0\", \"0\"]\n",
    "    , [\"w_2\", \"0\", \"1\"]\n",
    "    , [\"w_3\", \"1\", \"0\"] ]\n",
    "\n",
    "-- State encoding\n",
    "putStrLn $ T.render T.NoHeader T.MathCells [\"\", \"Q_1\", \"Q_2\", \"Q_3\"]\n",
    "    [ [\"a_1\", \"0\", \"0\", \"0\"]\n",
    "    , [\"a_2\", \"0\", \"0\", \"1\"]\n",
    "    , [\"a_3\", \"0\", \"1\", \"0\"]\n",
    "    , [\"a_4\", \"0\", \"1\", \"1\"]\n",
    "    , [\"a_5\", \"1\", \"0\", \"0\"]\n",
    "    , [\"a_6\", \"1\", \"0\", \"1\"] ]"
   ]
  },
  {
   "cell_type": "markdown",
   "metadata": {},
   "source": [
    "# Encoded states & transitions"
   ]
  },
  {
   "cell_type": "code",
   "execution_count": null,
   "metadata": {},
   "outputs": [],
   "source": [
    "binaryWidth :: [Int] -> Int\n",
    "binaryWidth = (+ 1) . floor . logBase 2.0 . fromIntegral . maximum\n",
    "\n",
    "encodeBinary :: Int -> Int -> [Int]\n",
    "encodeBinary width = padBinary width . reverse . revBinary\n",
    "    where\n",
    "        revBinary 0 = []\n",
    "        revBinary n = (n `mod` 2) : revBinary (n `div` 2)\n",
    "        padBinary width bs = replicate (width - length bs) 0 ++ bs\n",
    "\n",
    "encodeBinaryAll :: [Int] -> [[Int]]\n",
    "encodeBinaryAll ns = encodeBinary (binaryWidth ns) <$> ns\n",
    "\n",
    "transitionsEncoded = (encodeBinary (binaryWidth $ head transitions) <$>) <$> transitions\n",
    "outputsEncoded = (encodeBinary (binaryWidth $ head outputs) <$>) <$> outputs"
   ]
  },
  {
   "cell_type": "code",
   "execution_count": null,
   "metadata": {},
   "outputs": [],
   "source": [
    "statesEncodedHeader = \"$x_1x_2/Q_1Q_2Q_3$\" : ((show =<<) <$> encodeBinaryAll [0..5])\n",
    "showEncodedRows = (((show =<<) <$>) <$>)\n",
    "\n",
    "-- Transitions encoded\n",
    "tabulateSignals ss footer = T.render T.NoHeader T.DefaultCells statesEncodedHeader $\n",
    "    T.prependRowHeader ((show =<<) . encodeBinary 2 <$> [0..]) $\n",
    "    showEncodedRows ss ++ footer\n",
    "putStrLn $ tabulateSignals transitionsEncoded []\n",
    "    \n",
    "-- Outputs encoded\n",
    "putStrLn $ tabulateSignals outputsEncoded [\"\" : replicate 6 \"$y_1y_2$\"]"
   ]
  },
  {
   "cell_type": "markdown",
   "metadata": {},
   "source": [
    "# Output DNF"
   ]
  },
  {
   "cell_type": "code",
   "execution_count": null,
   "metadata": {},
   "outputs": [],
   "source": [
    "import Control.Monad (forM_)\n",
    "\n",
    "type Enc = [Int] -- encoded signal\n",
    "\n",
    "zipWithXQ :: [[Enc]] -> [(Enc, [(Enc, Enc)])] -- [(X, [(Q, signal)])]\n",
    "zipWithXQ signals = zip (encodeBinaryAll [0..2]) $ zip (encodeBinaryAll [0..5]) <$> signals\n",
    "\n",
    "outputsWithXQ :: [(Enc, [(Enc, Enc)])] -- [(X, [(Q, W)])]\n",
    "outputsWithXQ = zipWithXQ outputsEncoded\n",
    "\n",
    "dnf :: Int -> [(Enc, [(Enc, Enc)])] -> L.BoolTerm\n",
    "dnf windex inputs = L.simplify $ L.Or $ inputTerms =<< inputs\n",
    "    where\n",
    "        inputTerms (x, ws) = L.And . go x <$> ws\n",
    "        go x (q, w)\n",
    "            | w !! windex == 0 = []\n",
    "            | otherwise        = (term L.X <$> zip [1..] x) ++ (term L.Q <$> zip [1..] q)\n",
    "        term ctr (i, signal) = if signal == 1 then ctr i else L.Not (ctr i)\n",
    "\n",
    "renderDnf var vari dnf = var ++ \"_\" ++ show (vari + 1) ++ \" = \" ++\n",
    "        L.render dnf ++ \" = \" ++ L.renderNumericDnf dnf\n",
    "\n",
    "forM_ [0..1] $ \\y ->\n",
    "    putStrLn $ renderDnf \"y\" y (dnf y outputsWithXQ)"
   ]
  },
  {
   "cell_type": "markdown",
   "metadata": {},
   "source": [
    "# D flip-flop"
   ]
  },
  {
   "cell_type": "code",
   "execution_count": null,
   "metadata": {},
   "outputs": [],
   "source": [
    "transitionsWithQ = zip (encodeBinaryAll [0..5]) <$> transitionsEncoded\n",
    "\n",
    "dTransitions = (dTransition <$>) <$> transitionsWithQ\n",
    "    where dTransition (_prevState, nextState) = nextState\n",
    "dTransitionsWithXQ = zipWithXQ dTransitions\n",
    "\n",
    "putStrLn $ tabulateSignals dTransitions [replicate 6 \"$D_1D_2D_3$\"]\n",
    "\n",
    "forM_ [0..2] $ \\d ->\n",
    "    putStrLn $ renderDnf \"D\" d (dnf d dTransitionsWithXQ)"
   ]
  }
 ],
 "metadata": {
  "kernelspec": {
   "display_name": "Haskell",
   "language": "haskell",
   "name": "haskell"
  },
  "language_info": {
   "codemirror_mode": "ihaskell",
   "file_extension": ".hs",
   "name": "haskell",
   "pygments_lexer": "Haskell",
   "version": "8.6.5"
  }
 },
 "nbformat": 4,
 "nbformat_minor": 2
}

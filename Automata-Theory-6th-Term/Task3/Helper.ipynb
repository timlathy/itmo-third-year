{
 "cells": [
  {
   "cell_type": "code",
   "execution_count": null,
   "metadata": {},
   "outputs": [],
   "source": [
    "import Data.List (intercalate)\n",
    "\n",
    "data TableHeader = RowHeader | ColHeader | NoHeader deriving (Eq)\n",
    "data TableCellEnvironment = DefaultCells | MathCells deriving (Eq)\n",
    "\n",
    "renderTable :: TableHeader -> TableCellEnvironment -> [String] -> [[String]] -> String\n",
    "renderTable h env cols rows =\n",
    "    \"\\\\begin{tabular}{|*{\" ++ show (length cols) ++ \"}{c|}}\\n\\\\hline\\n\" ++\n",
    "    joinRows (fmtCols (headerCell <$> cols) : (fmtCols <$> rows) ++ [\"\\\\end{tabular}\"])\n",
    "    where\n",
    "        headerCell c\n",
    "            | h == RowHeader = boldCell c\n",
    "            | otherwise      = c\n",
    "        fmtCols (c : cs)\n",
    "            | h == ColHeader = intercalate \" & \" (boldCell c : (cell <$> cs))\n",
    "            | otherwise      = intercalate \" & \" (cell <$> (c : cs))\n",
    "        joinRows = intercalate \"\\\\\\\\\\\\hline\\n\"\n",
    "        cell c\n",
    "            | env == MathCells = \"$\" ++ c ++ \"$\"\n",
    "            | otherwise        = c\n",
    "        boldCell c = \"\\\\textbf{\" ++ cell c ++ \"}\""
   ]
  },
  {
   "cell_type": "code",
   "execution_count": null,
   "metadata": {},
   "outputs": [],
   "source": [
    "binaryWidth :: [Int] -> Int\n",
    "binaryWidth = (+ 1) . floor . logBase 2.0 . fromIntegral . maximum\n",
    "\n",
    "encodeBinary :: Int -> Int -> [Int]\n",
    "encodeBinary width = padBinary width . reverse . revBinary\n",
    "    where\n",
    "        revBinary 0 = [0]\n",
    "        revBinary n = (n `mod` 2) : revBinary (n `div` 2)\n",
    "        padBinary width bs = replicate (width - length bs) 0 ++ bs\n",
    "\n",
    "encodeBinaryAll :: [Int] -> [[Int]]\n",
    "encodeBinaryAll ns = encodeBinary (binaryWidth ns) <$> ns"
   ]
  },
  {
   "cell_type": "code",
   "execution_count": null,
   "metadata": {},
   "outputs": [],
   "source": [
    "prependHeaders :: [a] -> [[a]] -> [[a]]\n",
    "prependHeaders (h:hs) (cs:css) = (h:cs) : prependHeaders hs css\n",
    "prependHeaders _ _ = []"
   ]
  },
  {
   "cell_type": "code",
   "execution_count": null,
   "metadata": {},
   "outputs": [],
   "source": [
    "fromZero = ((subtract 1 <$>) <$>)\n",
    "\n",
    "transitions = fromZero [[2, 1, 5, 6, 2, 3], [4, 3, 1, 4, 6, 5], [6, 5, 3, 2, 4, 1]]\n",
    "outputs = fromZero [[1, 2, 3, 3, 2, 1], [2, 3, 1, 2, 1, 3], [3, 1, 2, 1, 3, 2]]\n",
    "\n",
    "printEncoded ts = (printCell <$>) <$> ts\n",
    "    where\n",
    "        printCell = (show =<<) . encode\n",
    "        encode = encodeBinary (binaryWidth $ head ts)"
   ]
  },
  {
   "cell_type": "code",
   "execution_count": null,
   "metadata": {},
   "outputs": [],
   "source": [
    "statesEncodedHeader = \"$x_1x_2/Q_1Q_2Q_3$\" : ((show =<<) <$> encodeBinaryAll [0..5])\n",
    "\n",
    "-- Transitions encoded\n",
    "putStrLn $ renderTable NoHeader DefaultCells statesEncodedHeader $\n",
    "    prependHeaders ((show =<<) . encodeBinary 2 <$> [0..]) (printEncoded transitions)\n",
    "    \n",
    "-- Outputs encoded\n",
    "putStrLn $ renderTable NoHeader DefaultCells statesEncodedHeader $\n",
    "    prependHeaders ((show =<<) . encodeBinary 2 <$> [0..]) (printEncoded outputs) ++\n",
    "    [\"\" : replicate 6 \"$y_1y_2$\"]"
   ]
  },
  {
   "cell_type": "code",
   "execution_count": null,
   "metadata": {},
   "outputs": [],
   "source": [
    "-- State transitions\n",
    "putStrLn $ renderTable NoHeader MathCells [\"\\\\delta\", \"a_1\", \"a_2\", \"a_3\", \"a_4\", \"a_5\", \"a_6\"]\n",
    "    ((\\(i, s) -> (\"z_\" ++ show i) : s) <$> zip [1..] ((((\"a_\" ++) . show . (+ 1)) <$>) <$> transitions))\n",
    "  \n",
    "-- Outputs\n",
    "putStrLn $ renderTable NoHeader MathCells [\"\\\\lambda\", \"a_1\", \"a_2\", \"a_3\", \"a_4\", \"a_5\", \"a_6\"]\n",
    "    [ [\"z_1\", \"w_1\" , \"w_2\" , \"w_3\" , \"w_3\" , \"w_2\" , \"w_1\"]\n",
    "    , [\"z_2\", \"w_2\" , \"w_3\" , \"w_1\" , \"w_2\" , \"w_1\" , \"w_3\"]\n",
    "    , [\"z_3\", \"w_3\" , \"w_1\" , \"w_2\" , \"w_1\" , \"w_3\" , \"w_2\"] ]\n",
    "\n",
    "-- Input encoding\n",
    "putStrLn $ renderTable NoHeader MathCells [\"\", \"x_1\", \"x_2\"]\n",
    "    [ [\"z_1\", \"0\", \"0\"]\n",
    "    , [\"z_2\", \"0\", \"1\"]\n",
    "    , [\"z_3\", \"1\", \"0\"] ]\n",
    "\n",
    "-- Output encoding\n",
    "putStrLn $ renderTable NoHeader MathCells [\"\", \"y_1\", \"y_2\"]\n",
    "    [ [\"w_1\", \"0\", \"0\"]\n",
    "    , [\"w_2\", \"0\", \"1\"]\n",
    "    , [\"w_3\", \"1\", \"0\"] ]\n",
    "\n",
    "-- State encoding\n",
    "putStrLn $ renderTable NoHeader MathCells [\"\", \"Q_1\", \"Q_2\", \"Q_3\"]\n",
    "    [ [\"a_1\", \"0\", \"0\", \"0\"]\n",
    "    , [\"a_2\", \"0\", \"0\", \"1\"]\n",
    "    , [\"a_3\", \"0\", \"1\", \"0\"]\n",
    "    , [\"a_4\", \"0\", \"1\", \"1\"]\n",
    "    , [\"a_5\", \"1\", \"0\", \"0\"]\n",
    "    , [\"a_6\", \"1\", \"0\", \"1\"] ]"
   ]
  }
 ],
 "metadata": {
  "kernelspec": {
   "display_name": "Haskell",
   "language": "haskell",
   "name": "haskell"
  },
  "language_info": {
   "codemirror_mode": "ihaskell",
   "file_extension": ".hs",
   "name": "haskell",
   "pygments_lexer": "Haskell",
   "version": "8.6.5"
  }
 },
 "nbformat": 4,
 "nbformat_minor": 2
}

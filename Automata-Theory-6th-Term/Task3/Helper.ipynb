{
 "cells": [
  {
   "cell_type": "code",
   "execution_count": null,
   "metadata": {},
   "outputs": [],
   "source": [
    ":load LatexTable.hs\n",
    ":load Logic.hs\n",
    "import qualified LatexTable as T\n",
    "import qualified Logic as L"
   ]
  },
  {
   "cell_type": "markdown",
   "metadata": {},
   "source": [
    "# Given"
   ]
  },
  {
   "cell_type": "code",
   "execution_count": null,
   "metadata": {},
   "outputs": [],
   "source": [
    "data MachineKind = MealyFSM | MooreFSM\n",
    "fromZero = ((subtract 1 <$>) <$>)\n",
    "\n",
    "transitions = fromZero [[2, 1, 5, 6, 2, 3], [4, 3, 1, 4, 6, 5], [6, 5, 3, 2, 4, 1]]\n",
    "outputs = fromZero [[1, 2, 3, 3, 2, 1], [2, 3, 1, 2, 1, 3], [3, 1, 2, 1, 3, 2]]\n",
    "\n",
    "machine = MealyFSM\n",
    "checkInputs = [ [0, 0], [0, 1], [0, 1], [0, 1], [0, 1], [1, 0]\n",
    "              , [1, 0], [1, 0], [0, 0], [0, 1], [0, 1], [0, 0]\n",
    "              , [1, 0], [0, 0], [0, 0], [0, 0], [1, 0], [1, 0] ]\n",
    "checkOutputs = [ [0, 0], [1, 0], [0, 0], [0, 1], [0, 1], [0, 0] \n",
    "               , [0, 0], [1, 0], [1, 0], [1, 0], [0, 0], [0, 0]\n",
    "               , [0, 1], [1, 0], [0, 1], [0, 1], [1, 0], [0, 1] ] "
   ]
  },
  {
   "cell_type": "markdown",
   "metadata": {},
   "source": [
    "# Encoded states & transitions"
   ]
  },
  {
   "cell_type": "code",
   "execution_count": null,
   "metadata": {},
   "outputs": [],
   "source": [
    "binaryWidth :: [Int] -> Int\n",
    "binaryWidth = (+ 1) . floor . logBase 2.0 . fromIntegral . maximum\n",
    "\n",
    "encodeBinary :: Int -> Int -> [Int]\n",
    "encodeBinary width = padBinary width . reverse . revBinary\n",
    "    where\n",
    "        revBinary 0 = []\n",
    "        revBinary n = (n `mod` 2) : revBinary (n `div` 2)\n",
    "        padBinary width bs = replicate (width - length bs) 0 ++ bs\n",
    "\n",
    "encodeBinaryAll :: [Int] -> [[Int]]\n",
    "encodeBinaryAll ns = encodeBinary (binaryWidth ns) <$> ns\n",
    "\n",
    "xrange = [0..(length transitions - 1)]\n",
    "qrange = [0..maximum (head transitions)]\n",
    "yrange = [0..(length outputs - 1)]\n",
    "xwidth = binaryWidth [length transitions - 1]\n",
    "qwidth = binaryWidth $ head transitions\n",
    "ywidth = binaryWidth $ head outputs\n",
    "\n",
    "transitionsEncoded = (encodeBinary qwidth <$>) <$> transitions\n",
    "outputsEncoded = (encodeBinary ywidth <$>) <$> outputs"
   ]
  },
  {
   "cell_type": "code",
   "execution_count": null,
   "metadata": {},
   "outputs": [],
   "source": [
    "statesEncodedHeader = statesHeaderCell : ((show =<<) <$> encodeBinaryAll qrange)\n",
    "    where\n",
    "        statesHeaderCell = \"$\" ++ mconcat (xs ++ \"/\" : qs) ++ \"$\"\n",
    "        xs = (\"x_\" ++) . show <$> [1..xwidth]\n",
    "        qs = (\"Q_\" ++) . show <$> [1..qwidth]\n",
    "\n",
    "tabulateSignals' = T.render T.NoHeader T.DefaultCells statesEncodedHeader .\n",
    "    T.prependRowHeader ((show =<<) . encodeBinary xwidth <$> xrange)\n",
    "tabulateSignals ss footer = tabulateSignals' $ showEncodedRows ss ++ footer\n",
    "    where showEncodedRows = (((show =<<) <$>) <$>)\n",
    "\n",
    "-- Transitions encoded\n",
    "putStrLn $ tabulateSignals transitionsEncoded []\n",
    "    \n",
    "-- Outputs encoded\n",
    "makeFooter :: Char -> Int -> [String]\n",
    "makeFooter var width = replicate (length qrange) yfooter\n",
    "    where yfooter = \"$\" ++ mconcat ((var :) . ('_' :) . show <$> [1..width]) ++ \"$\"\n",
    "putStrLn $ tabulateSignals outputsEncoded [makeFooter 'y' ywidth]"
   ]
  },
  {
   "cell_type": "markdown",
   "metadata": {},
   "source": [
    "# Output DNF"
   ]
  },
  {
   "cell_type": "code",
   "execution_count": null,
   "metadata": {},
   "outputs": [],
   "source": [
    "import Control.Monad (forM_)\n",
    "\n",
    "type Enc = [Int] -- encoded signal\n",
    "\n",
    "zipWithXQ :: [[Enc]] -> [(Enc, [(Enc, Enc)])] -- [(X, [(Q, signal)])]\n",
    "zipWithXQ signals = zip (encodeBinaryAll xrange) $ zip (encodeBinaryAll qrange) <$> signals\n",
    "\n",
    "outputsWithXQ :: [(Enc, [(Enc, Enc)])] -- [(X, [(Q, W)])]\n",
    "outputsWithXQ = zipWithXQ outputsEncoded\n",
    "\n",
    "dnf :: [(Enc, [(Enc, Enc)])] -> Int -> L.BoolTerm\n",
    "dnf inputs windex = L.simplify $ L.Or $ inputTerms =<< inputs\n",
    "    where\n",
    "        inputTerms (x, ws) = L.And . go x <$> ws\n",
    "        go x (q, w)\n",
    "            | w !! windex == 1 = (term L.X <$> zip [1..] x) ++ (term L.Q <$> zip [1..] q)\n",
    "            | otherwise        = []\n",
    "        term ctr (i, signal) = if signal == 1 then ctr i else L.Not (ctr i)\n",
    "\n",
    "renderDnf var vari dnf = var ++ \"_\" ++ show (vari + 1) ++ \" = \" ++\n",
    "        L.render dnf ++ \" = \" ++ L.renderNumericDnf dnf\n",
    "\n",
    "ydnfrange = [0..ywidth - 1]\n",
    "outputDnfs = dnf outputsWithXQ <$> ydnfrange\n",
    "forM_ (zip [0..] outputDnfs) $ \\(y, ydnf) -> putStrLn $ renderDnf \"y\" y ydnf"
   ]
  },
  {
   "cell_type": "markdown",
   "metadata": {},
   "source": [
    "# Evaluation"
   ]
  },
  {
   "cell_type": "code",
   "execution_count": null,
   "metadata": {},
   "outputs": [],
   "source": [
    "-- qdnfs -> ydnfs -> state -> inputs -> outputs\n",
    "-- length inputs == length outputs\n",
    "-- length qdnfs == length state\n",
    "-- length ydnfs == length $ head outputs\n",
    "eval :: [L.BoolTerm] -> [L.BoolTerm] -> Enc -> [Enc] -> [Enc]\n",
    "eval qdnfs ydnfs initState inputs = reverse $ go initState inputs []\n",
    "    where\n",
    "        go _ [] yss = yss\n",
    "        go qs (xs:xss) yss = go nextQs xss (ys:yss)\n",
    "            where\n",
    "                nextQs = L.eval xs qs <$> qdnfs\n",
    "                ys = case machine of\n",
    "                    MealyFSM -> L.eval xs qs <$> ydnfs\n",
    "                    MooreFSM -> L.eval xs nextQs <$> ydnfs\n",
    "\n",
    "evalStateDnfs :: [L.BoolTerm] -> [Enc]\n",
    "evalStateDnfs qdnfs = eval qdnfs outputDnfs (replicate qwidth 0) checkInputs\n",
    "\n",
    "printCheckResults outputs = do\n",
    "    let matchStatus = if outputs == checkOutputs\n",
    "        then \"(matches expected)\"\n",
    "        else \"(incorrect)\"\n",
    "    putStrLn $ \"Inputs:  \" ++ unwords ((show =<<) <$> checkInputs)\n",
    "    putStrLn $ \"Outputs: \" ++ unwords ((show =<<) <$> outputs) ++ \" \" ++ matchStatus"
   ]
  },
  {
   "cell_type": "markdown",
   "metadata": {},
   "source": [
    "# D flip-flop"
   ]
  },
  {
   "cell_type": "code",
   "execution_count": null,
   "metadata": {},
   "outputs": [],
   "source": [
    "transitionsWithQ = zip (encodeBinaryAll qrange) <$> transitionsEncoded\n",
    "\n",
    "dTransitions = (dTransition <$>) <$> transitionsWithQ\n",
    "    where dTransition (_prevState, nextState) = nextState\n",
    "dTransitionsWithXQ = zipWithXQ dTransitions\n",
    "\n",
    "putStrLn $ tabulateSignals dTransitions [makeFooter 'D' qwidth]\n",
    "\n",
    "qdnfrange = [0..qwidth - 1]\n",
    "dDnfs = dnf dTransitionsWithXQ <$> qdnfrange\n",
    "forM_ (zip [0..] dDnfs) $ \\(d, qdnf) -> putStrLn $ renderDnf \"D\" d qdnf\n",
    "\n",
    "dStateDnfs = dDnfs -- see dTransition\n",
    "printCheckResults $ evalStateDnfs dStateDnfs"
   ]
  },
  {
   "cell_type": "markdown",
   "metadata": {},
   "source": [
    "# T flip-flop"
   ]
  },
  {
   "cell_type": "code",
   "execution_count": null,
   "metadata": {},
   "outputs": [],
   "source": [
    "tTransitions = (tTransition <$>) <$> transitionsWithQ\n",
    "    where\n",
    "        tTransition (prevState, nextState) = tBit <$> zip prevState nextState\n",
    "        -- xor\n",
    "        tBit (0, b) = b\n",
    "        tBit (1, 0) = 1\n",
    "        tBit (1, 1) = 0\n",
    "tTransitionsWithXQ = zipWithXQ tTransitions\n",
    "\n",
    "putStrLn $ tabulateSignals tTransitions [makeFooter 'T' qwidth]\n",
    "\n",
    "tDnfs = dnf tTransitionsWithXQ <$> qdnfrange\n",
    "forM_ (zip [0..] tDnfs) $ \\(t, qdnf) -> putStrLn $ renderDnf \"T\" t qdnf\n",
    "\n",
    "tStateDnfs = makeQdnf <$> zip [1..] tDnfs\n",
    "    where\n",
    "        makeQdnf (qi, tdnf) = xorTerm (L.Q qi) tdnf\n",
    "        xorTerm a b = L.Or [L.And [L.Not a, b], L.And [a, L.Not b]]\n",
    "printCheckResults $ evalStateDnfs tStateDnfs"
   ]
  },
  {
   "cell_type": "markdown",
   "metadata": {},
   "source": [
    "# RS flip-flop"
   ]
  },
  {
   "cell_type": "code",
   "execution_count": null,
   "metadata": {},
   "outputs": [],
   "source": [
    "import Data.List (intercalate)\n",
    "\n",
    "tabulatePairSignals (avar, bvar) ss = tabulateSignals' (rows ++ footer)\n",
    "    where\n",
    "        rows = (intercalate \"/\" . (showPair <$>) <$>) <$> ss\n",
    "            where\n",
    "                showPair (a, b) = showBit a ++ showBit b\n",
    "                showBit (-1) = \"-\"\n",
    "                showBit n = show n\n",
    "        footer = [replicate (length qrange) column]\n",
    "            where\n",
    "                column = intercalate \"/ \" $ signal <$> [1..qwidth]\n",
    "                signal i = ['$', avar, '_'] ++ show i ++ [bvar, '_'] ++ show i ++ ['$']"
   ]
  },
  {
   "cell_type": "code",
   "execution_count": null,
   "metadata": {},
   "outputs": [],
   "source": [
    "rsTransitions = (rsTransition <$>) <$> transitionsWithQ\n",
    "    where\n",
    "        rsTransition (prevState, nextState) = rsPair <$> zip prevState nextState\n",
    "        rsPair (0, 0) = (-1, 0)\n",
    "        rsPair (0, 1) = (0, 1)\n",
    "        rsPair (1, 0) = (1, 0)\n",
    "        rsPair (1, 1) = (0, -1)\n",
    "\n",
    "putStrLn $ tabulatePairSignals ('R', 'S') rsTransitions\n",
    "\n",
    "rDnfs = dnf (zipWithXQ rTransitions) <$> qdnfrange\n",
    "    where rTransitions = ((fst <$>) <$>) <$> rsTransitions\n",
    "sDnfs = dnf (zipWithXQ sTransitions) <$> qdnfrange\n",
    "    where sTransitions = ((snd <$>) <$>) <$> rsTransitions\n",
    "    \n",
    "forM_ (zip3 [0..] rDnfs sDnfs) $ \\(i, rdnf, sdnf) -> do\n",
    "    putStrLn $ renderDnf \"R\" i rdnf\n",
    "    putStrLn $ renderDnf \"S\" i sdnf\n",
    "    \n",
    "rsStateDnfs = makeQdnf <$> zip3 [1..] rDnfs sDnfs\n",
    "    where\n",
    "        makeQdnf (qi, rdnf, sdnf) = L.And [ L.Not rdnf\n",
    "                                          , L.Or [ L.Q qi\n",
    "                                                 , L.And [L.Not (L.Q qi), sdnf]]]\n",
    "\n",
    "printCheckResults $ evalStateDnfs rsStateDnfs"
   ]
  },
  {
   "cell_type": "markdown",
   "metadata": {},
   "source": [
    "# JK flip-flop"
   ]
  },
  {
   "cell_type": "code",
   "execution_count": null,
   "metadata": {},
   "outputs": [],
   "source": [
    "jkTransitions = (jkTransition <$>) <$> transitionsWithQ\n",
    "    where\n",
    "        jkTransition (prevState, nextState) = jkPair <$> zip prevState nextState\n",
    "        jkPair (0, 0) = (0, -1)\n",
    "        jkPair (0, 1) = (1, -1)\n",
    "        jkPair (1, 0) = (-1, 1)\n",
    "        jkPair (1, 1) = (-1, 0)\n",
    "\n",
    "putStrLn $ tabulatePairSignals ('J', 'K') jkTransitions\n",
    "\n",
    "jDnfs = dnf (zipWithXQ jTransitions) <$> qdnfrange\n",
    "    where jTransitions = ((fst <$>) <$>) <$> jkTransitions\n",
    "kDnfs = dnf (zipWithXQ kTransitions) <$> qdnfrange\n",
    "    where kTransitions = ((snd <$>) <$>) <$> jkTransitions\n",
    "    \n",
    "forM_ (zip3 [0..] jDnfs kDnfs) $ \\(i, jdnf, kdnf) -> do\n",
    "    putStrLn $ renderDnf \"J\" i jdnf\n",
    "    putStrLn $ renderDnf \"K\" i kdnf\n",
    "\n",
    "jkStateDnfs = makeQdnf <$> zip3 [1..] jDnfs kDnfs\n",
    "    where\n",
    "        makeQdnf (qi, jdnf, kdnf) = L.Or [notk, k]\n",
    "            where\n",
    "                notk = L.And [ L.Not kdnf\n",
    "                             , L.Or [L.And [L.Not jdnf, L.Q qi], jdnf ]]\n",
    "                k = L.And [kdnf, jdnf, L.Not (L.Q qi)]\n",
    "\n",
    "printCheckResults $ evalStateDnfs jkStateDnfs"
   ]
  }
 ],
 "metadata": {
  "kernelspec": {
   "display_name": "Haskell",
   "language": "haskell",
   "name": "haskell"
  },
  "language_info": {
   "codemirror_mode": "ihaskell",
   "file_extension": ".hs",
   "name": "haskell",
   "pygments_lexer": "Haskell",
   "version": "8.6.5"
  }
 },
 "nbformat": 4,
 "nbformat_minor": 2
}

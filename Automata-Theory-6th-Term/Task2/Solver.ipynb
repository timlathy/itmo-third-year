{
 "cells": [
  {
   "cell_type": "code",
   "execution_count": 1,
   "metadata": {},
   "outputs": [],
   "source": [
    "graphOutputs = [2,2,2,2,1,2,2,2] -- \\lambda\n",
    "graphStates = [1,2,3,4,5,6,7,8] -- \\delta\n",
    "graphTransitions = [[1,6,1,7,1,8,3,1], [4,5,2,6,3,4,1,4]] -- z_1, z_2"
   ]
  },
  {
   "cell_type": "code",
   "execution_count": 2,
   "metadata": {},
   "outputs": [],
   "source": [
    "import Data.Function (on)\n",
    "import Data.List (sortOn, groupBy, findIndex, transpose)\n",
    "import Data.Maybe (fromJust)\n",
    "\n",
    "regroupStates :: [[Int]] -> [[Int]] -> [[Int]]\n",
    "regroupStates groups transitions = regroup =<< groupedStTs groups transitions\n",
    "    where\n",
    "        regroup :: [(Int, [Int])] -> [[Int]]\n",
    "        regroup grp = (fst <$>) <$> regroupedWithState\n",
    "            where\n",
    "                regroupedWithState = groupBy ((==) `on` snd) $ sortOn snd grp\n",
    "        groupedStTs :: [[Int]] -> [[Int]] -> [[(Int, [Int])]]\n",
    "        -- [[3], [1, 2]] -> [[1, 1], [1, 0], [0, 1]] -> [[(3, [1, 1])], [(1, [1, 0]), (2, [0, 1])]]\n",
    "        groupedStTs ((st : g) : gs) (t : ts) =\n",
    "            let grp : rest = groupedStTs (g : gs) ts in ((st, t) : grp) : rest\n",
    "        groupedStTs [] _ = []\n",
    "        groupedStTs ([] : gs) ts = [] : groupedStTs gs ts\n",
    "\n",
    "mapStateTransitions :: [[Int]] -> [[Int]]\n",
    "mapStateTransitions groups = stateTransitions <$> concat groups\n",
    "    where\n",
    "        stateTransitions st = (\\ts -> groupWithStateIndex $ ts !! (st - 1)) <$> graphTransitions\n",
    "        groupWithStateIndex st = fromJust $ findIndex (st `elem`) groups"
   ]
  },
  {
   "cell_type": "code",
   "execution_count": 3,
   "metadata": {},
   "outputs": [
    {
     "data": {
      "text/plain": [
       "[[5],[1,2,3,4,6,7,8]]"
      ]
     },
     "metadata": {},
     "output_type": "display_data"
    },
    {
     "data": {
      "text/plain": [
       "[[5],[2],[1,3,4,6,7,8]]"
      ]
     },
     "metadata": {},
     "output_type": "display_data"
    },
    {
     "data": {
      "text/plain": [
       "[[5],[2],[3],[1,4,6,7,8]]"
      ]
     },
     "metadata": {},
     "output_type": "display_data"
    },
    {
     "data": {
      "text/plain": [
       "[[5],[2],[3],[7],[1,4,6,8]]"
      ]
     },
     "metadata": {},
     "output_type": "display_data"
    },
    {
     "data": {
      "text/plain": [
       "[[5],[2],[3],[7],[4],[1,6,8]]"
      ]
     },
     "metadata": {},
     "output_type": "display_data"
    },
    {
     "data": {
      "text/plain": [
       "[[5],[2],[3],[7],[4],[1,6,8]]"
      ]
     },
     "metadata": {},
     "output_type": "display_data"
    },
    {
     "data": {
      "text/plain": [
       "[[5],[2],[3],[7],[4],[1,6,8]]"
      ]
     },
     "metadata": {},
     "output_type": "display_data"
    }
   ],
   "source": [
    "gs = regroupStates [graphStates] (transpose [graphOutputs])\n",
    "gs\n",
    "\n",
    "ts1 = mapStateTransitions gs\n",
    "gs1 = regroupStates gs ts1\n",
    "gs1\n",
    "\n",
    "ts2 = mapStateTransitions gs1\n",
    "gs2 = regroupStates gs1 ts2\n",
    "gs2\n",
    "\n",
    "ts3 = mapStateTransitions gs2\n",
    "gs3 = regroupStates gs2 ts3\n",
    "gs3\n",
    "\n",
    "ts4 = mapStateTransitions gs3\n",
    "gs4 = regroupStates gs3 ts4\n",
    "gs4\n",
    "\n",
    "ts5 = mapStateTransitions gs4\n",
    "gs5 = regroupStates gs4 ts5\n",
    "gs5\n",
    "\n",
    "ts6 = mapStateTransitions gs5\n",
    "gs6 = regroupStates gs5 ts6\n",
    "gs6"
   ]
  }
 ],
 "metadata": {
  "kernelspec": {
   "display_name": "Haskell",
   "language": "haskell",
   "name": "haskell"
  },
  "language_info": {
   "codemirror_mode": "ihaskell",
   "file_extension": ".hs",
   "name": "haskell",
   "pygments_lexer": "Haskell",
   "version": "8.6.5"
  }
 },
 "nbformat": 4,
 "nbformat_minor": 2
}
